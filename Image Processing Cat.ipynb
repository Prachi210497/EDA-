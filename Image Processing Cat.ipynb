{
 "cells": [
  {
   "cell_type": "code",
   "execution_count": 1,
   "id": "ba2740cc",
   "metadata": {},
   "outputs": [],
   "source": [
    "import numpy as np"
   ]
  },
  {
   "cell_type": "code",
   "execution_count": 2,
   "id": "20e3001e",
   "metadata": {},
   "outputs": [],
   "source": [
    "import cv2"
   ]
  },
  {
   "cell_type": "code",
   "execution_count": 3,
   "id": "98ecf8dd",
   "metadata": {},
   "outputs": [],
   "source": [
    "img1 = cv2.imread('C:/Users/prach/OneDrive/Pictures/cat.jpg')"
   ]
  },
  {
   "cell_type": "code",
   "execution_count": 4,
   "id": "1a39e80d",
   "metadata": {},
   "outputs": [],
   "source": [
    "h,w,bpp = np.shape(img1)"
   ]
  },
  {
   "cell_type": "code",
   "execution_count": 5,
   "id": "fd92042d",
   "metadata": {},
   "outputs": [],
   "source": [
    "img_gray = cv2.cvtColor(img1,cv2.COLOR_BGR2GRAY)"
   ]
  },
  {
   "cell_type": "code",
   "execution_count": 6,
   "id": "1ff88508",
   "metadata": {},
   "outputs": [],
   "source": [
    "img2=cv2.merge((img_gray,img_gray,img_gray))"
   ]
  },
  {
   "cell_type": "code",
   "execution_count": 7,
   "id": "3adcee2b",
   "metadata": {},
   "outputs": [],
   "source": [
    "th1, img3 = cv2.threshold(img2, 127, 255, cv2.THRESH_BINARY)"
   ]
  },
  {
   "cell_type": "code",
   "execution_count": 8,
   "id": "e60add2d",
   "metadata": {},
   "outputs": [],
   "source": [
    "img4 = cv2.resize(img1,None,fx=0.1, fy=0.1, interpolation = cv2.INTER_AREA)"
   ]
  },
  {
   "cell_type": "code",
   "execution_count": 9,
   "id": "651a245d",
   "metadata": {},
   "outputs": [],
   "source": [
    "img4 = cv2.resize(img4,None,fx=10, fy=10, interpolation = cv2.INTER_AREA)"
   ]
  },
  {
   "cell_type": "code",
   "execution_count": 10,
   "id": "0524989f",
   "metadata": {},
   "outputs": [],
   "source": [
    "img5 = cv2.GaussianBlur(img1,(9,9),10)"
   ]
  },
  {
   "cell_type": "code",
   "execution_count": 11,
   "id": "d51c738b",
   "metadata": {},
   "outputs": [],
   "source": [
    "img6 = cv2.cvtColor(img1,cv2.COLOR_BGR2HSV)"
   ]
  },
  {
   "cell_type": "code",
   "execution_count": 12,
   "id": "ce43b454",
   "metadata": {},
   "outputs": [],
   "source": [
    "temp1 = np.concatenate((img1,img2,img3), axis=1)"
   ]
  },
  {
   "cell_type": "code",
   "execution_count": 13,
   "id": "1af73f75",
   "metadata": {},
   "outputs": [],
   "source": [
    "temp2 = np.concatenate((img4,img5,img6), axis=1)"
   ]
  },
  {
   "cell_type": "code",
   "execution_count": 14,
   "id": "b7a0cd78",
   "metadata": {},
   "outputs": [],
   "source": [
    "img_final = np.concatenate((temp1,temp2), axis=0)"
   ]
  },
  {
   "cell_type": "code",
   "execution_count": 15,
   "id": "1d59d32a",
   "metadata": {},
   "outputs": [],
   "source": [
    "cv2.imshow(\"result\",img_final)"
   ]
  },
  {
   "cell_type": "code",
   "execution_count": 16,
   "id": "16ed1fdf",
   "metadata": {},
   "outputs": [],
   "source": [
    "cv2.waitKey(0)\n",
    "cv2.destroyAllWindows()"
   ]
  },
  {
   "cell_type": "code",
   "execution_count": null,
   "id": "906d04ac",
   "metadata": {},
   "outputs": [],
   "source": []
  }
 ],
 "metadata": {
  "kernelspec": {
   "display_name": "Python 3",
   "language": "python",
   "name": "python3"
  },
  "language_info": {
   "codemirror_mode": {
    "name": "ipython",
    "version": 3
   },
   "file_extension": ".py",
   "mimetype": "text/x-python",
   "name": "python",
   "nbconvert_exporter": "python",
   "pygments_lexer": "ipython3",
   "version": "3.8.8"
  }
 },
 "nbformat": 4,
 "nbformat_minor": 5
}
